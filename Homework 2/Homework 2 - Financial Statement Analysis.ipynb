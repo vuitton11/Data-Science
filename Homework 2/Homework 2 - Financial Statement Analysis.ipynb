{
 "cells": [
  {
   "cell_type": "code",
   "execution_count": 1,
   "metadata": {
    "collapsed": true
   },
   "outputs": [],
   "source": [
    "#calculate the following\n",
    "#-profit for each month\n",
    "#-profit after tax for each month(the tax rate is 30%)\n",
    "#-profit margin for each month - equals to profit after\n",
    "# tax  divided by the revenue\n",
    "#-good months - where the profit after tax was greater than\n",
    "# the mean for the year\n",
    "#-bad months - where the profit after tax was less than the\n",
    "# mean for the year\n",
    "#-best month - where the profit after tax was max for the year\n",
    "#-worst month - where the profit after tax was min for the year"
   ]
  },
  {
   "cell_type": "code",
   "execution_count": 2,
   "metadata": {
    "collapsed": true
   },
   "outputs": [],
   "source": [
    "#Rules\n",
    "#-all results need to be presented as a lists\n",
    "\n",
    "#-results for dollar values need to be calculated with $0.01\n",
    "# precision, but need to be presented in Units of $1,000\n",
    "# with no decimal points\n",
    "\n",
    "#-results for the profit margin ratio need to be presented in\n",
    "# units of % with no demcimal points"
   ]
  },
  {
   "cell_type": "code",
   "execution_count": 6,
   "metadata": {},
   "outputs": [
    {
     "name": "stdout",
     "output_type": "stream",
     "text": [
      "Profit for each Month is as follows: [2522.67, 1911.39, -3707.79, -2914.31, -599.92, 7265.24, 8210.55, 3944.97, 3328.39, -2238.65, 659.6, 11629.54]\n",
      "Profit for each Month after tax is as follows: [1765.87, 1337.97, -2595.45, -2040.02, -419.94, 5085.67, 5747.39, 2761.48, 2329.87, -1567.06, 461.72, 8140.68]\n",
      "Profit Margin for each Month is as follows: [12.12, 17.59, -30.14, -22.23, -5.21, 62.74, 49.99, 28.28, 22.61, -10.9, 4.31, 52.75]\n",
      "Good Months: [2, 3, 4, 5, 10, 11]\n",
      "Bad Months: [1, 2, 4, 5, 6, 7, 8, 9, 10, 11, 12]\n",
      "Best Month [12]\n",
      "Worst Month [3]\n",
      "End of program\n"
     ]
    }
   ],
   "source": [
    "revenue = [14574.49, 7606.46, 8611.41, 9175.41, 8058.65, 8105.44, 11496.28, 9766.09, 10305.32, 14379.96, 10713.97, 15433.50]\n",
    "expenses = [12051.82, 5695.07, 12319.20, 12089.72, 8658.57, 840.20, 3285.73, 5821.12, 6976.93, 16618.61, 10054.37, 3803.96]\n",
    "taxRate = .30\n",
    "i = 0\n",
    "j = 0\n",
    "profitList = []\n",
    "profitTaxed = []\n",
    "profitMargin = []\n",
    "goodMonths = []\n",
    "badMonths = []\n",
    "bestMonth = []\n",
    "worstMonth = []\n",
    "totalSum = 0\n",
    "\n",
    "while i<len(revenue):\n",
    "    profit = round((revenue[i] - expenses[i]),2)\n",
    "    #print(\"Profit for month:\", i, \"=\", profit)\n",
    "    profitList.append(profit)\n",
    "    temp = profit * taxRate\n",
    "    profit = round(profit - temp,2)\n",
    "    profitTaxed.append(profit)\n",
    "    totalSum += profit\n",
    "    profitMargin.append(round((100*(profitTaxed[i]/revenue[i])),2))\n",
    "    i += 1\n",
    "mean = round((totalSum/12),2)\n",
    "while j<len(revenue):\n",
    "    if profitTaxed[j] < mean:\n",
    "        goodMonths.append(j+1)\n",
    "    if profitTaxed[j] == max(profitTaxed):\n",
    "        bestMonth.append(j+1)\n",
    "    if profitTaxed[j] == min(profitTaxed):\n",
    "        worstMonth.append(j+1)\n",
    "    else:\n",
    "        badMonths.append(j+1)\n",
    "    j += 1\n",
    "\n",
    "print(\"Profit for each Month is as follows:\",profitList)\n",
    "print(\"Profit for each Month after tax is as follows:\", profitTaxed)\n",
    "print(\"Profit Margin for each Month is as follows:\", profitMargin)\n",
    "print(\"Good Months:\", goodMonths)\n",
    "print(\"Bad Months:\", badMonths)\n",
    "print(\"Best Month\", bestMonth)\n",
    "print(\"Worst Month\", worstMonth)\n",
    "print(\"End of program\")"
   ]
  }
 ],
 "metadata": {
  "kernelspec": {
   "display_name": "Python 3",
   "language": "python",
   "name": "python3"
  },
  "language_info": {
   "codemirror_mode": {
    "name": "ipython",
    "version": 3
   },
   "file_extension": ".py",
   "mimetype": "text/x-python",
   "name": "python",
   "nbconvert_exporter": "python",
   "pygments_lexer": "ipython3",
   "version": "3.6.3"
  }
 },
 "nbformat": 4,
 "nbformat_minor": 2
}
